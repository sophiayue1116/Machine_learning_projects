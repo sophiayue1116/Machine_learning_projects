{
 "cells": [
  {
   "cell_type": "code",
   "execution_count": 1,
   "metadata": {},
   "outputs": [
    {
     "name": "stderr",
     "output_type": "stream",
     "text": [
      "C:\\Users\\lenovo\\Anaconda3\\lib\\site-packages\\sklearn\\ensemble\\weight_boosting.py:29: DeprecationWarning: numpy.core.umath_tests is an internal NumPy module and should not be imported. It will be removed in a future NumPy release.\n",
      "  from numpy.core.umath_tests import inner1d\n",
      "C:\\Users\\lenovo\\Anaconda3\\lib\\site-packages\\sklearn\\cross_validation.py:41: DeprecationWarning: This module was deprecated in version 0.18 in favor of the model_selection module into which all the refactored classes and functions are moved. Also note that the interface of the new CV iterators are different from that of this module. This module will be removed in 0.20.\n",
      "  \"This module will be removed in 0.20.\", DeprecationWarning)\n"
     ]
    }
   ],
   "source": [
    "from sklearn.ensemble import RandomForestClassifier\n",
    "from sklearn.multiclass import OutputCodeClassifier\n",
    "from sklearn.pipeline import Pipeline\n",
    "from sklearn.model_selection import train_test_split\n",
    "from sklearn.metrics import confusion_matrix, accuracy_score, precision_score, recall_score, f1_score\n",
    "from sklearn.model_selection import GridSearchCV\n",
    "from sklearn import cross_validation, metrics\n",
    "import numpy as np\n",
    "import pandas as pd\n",
    "import seaborn as sn\n",
    "import matplotlib.pyplot as plt\n",
    "from sklearn.neighbors import KNeighborsClassifier\n",
    "from sklearn.model_selection import cross_val_score\n",
    "%matplotlib inline\n",
    "\n",
    "# Reference\n",
    "# https://www.cnblogs.com/pinard/p/6160412.html"
   ]
  },
  {
   "cell_type": "code",
   "execution_count": 2,
   "metadata": {},
   "outputs": [
    {
     "name": "stdout",
     "output_type": "stream",
     "text": [
      "(42000, 785)\n",
      "(28000, 784)\n"
     ]
    }
   ],
   "source": [
    "# reading data\n",
    "train = pd.read_csv(\"train.csv\")\n",
    "test = pd.read_csv(\"test.csv\")\n",
    "print(train.shape)\n",
    "print(test.shape)"
   ]
  },
  {
   "cell_type": "code",
   "execution_count": 3,
   "metadata": {},
   "outputs": [
    {
     "data": {
      "text/html": [
       "<div>\n",
       "<style scoped>\n",
       "    .dataframe tbody tr th:only-of-type {\n",
       "        vertical-align: middle;\n",
       "    }\n",
       "\n",
       "    .dataframe tbody tr th {\n",
       "        vertical-align: top;\n",
       "    }\n",
       "\n",
       "    .dataframe thead th {\n",
       "        text-align: right;\n",
       "    }\n",
       "</style>\n",
       "<table border=\"1\" class=\"dataframe\">\n",
       "  <thead>\n",
       "    <tr style=\"text-align: right;\">\n",
       "      <th></th>\n",
       "      <th>label</th>\n",
       "      <th>pixel0</th>\n",
       "      <th>pixel1</th>\n",
       "      <th>pixel2</th>\n",
       "      <th>pixel3</th>\n",
       "      <th>pixel4</th>\n",
       "      <th>pixel5</th>\n",
       "      <th>pixel6</th>\n",
       "      <th>pixel7</th>\n",
       "      <th>pixel8</th>\n",
       "      <th>...</th>\n",
       "      <th>pixel774</th>\n",
       "      <th>pixel775</th>\n",
       "      <th>pixel776</th>\n",
       "      <th>pixel777</th>\n",
       "      <th>pixel778</th>\n",
       "      <th>pixel779</th>\n",
       "      <th>pixel780</th>\n",
       "      <th>pixel781</th>\n",
       "      <th>pixel782</th>\n",
       "      <th>pixel783</th>\n",
       "    </tr>\n",
       "  </thead>\n",
       "  <tbody>\n",
       "    <tr>\n",
       "      <th>0</th>\n",
       "      <td>1</td>\n",
       "      <td>0</td>\n",
       "      <td>0</td>\n",
       "      <td>0</td>\n",
       "      <td>0</td>\n",
       "      <td>0</td>\n",
       "      <td>0</td>\n",
       "      <td>0</td>\n",
       "      <td>0</td>\n",
       "      <td>0</td>\n",
       "      <td>...</td>\n",
       "      <td>0</td>\n",
       "      <td>0</td>\n",
       "      <td>0</td>\n",
       "      <td>0</td>\n",
       "      <td>0</td>\n",
       "      <td>0</td>\n",
       "      <td>0</td>\n",
       "      <td>0</td>\n",
       "      <td>0</td>\n",
       "      <td>0</td>\n",
       "    </tr>\n",
       "    <tr>\n",
       "      <th>1</th>\n",
       "      <td>0</td>\n",
       "      <td>0</td>\n",
       "      <td>0</td>\n",
       "      <td>0</td>\n",
       "      <td>0</td>\n",
       "      <td>0</td>\n",
       "      <td>0</td>\n",
       "      <td>0</td>\n",
       "      <td>0</td>\n",
       "      <td>0</td>\n",
       "      <td>...</td>\n",
       "      <td>0</td>\n",
       "      <td>0</td>\n",
       "      <td>0</td>\n",
       "      <td>0</td>\n",
       "      <td>0</td>\n",
       "      <td>0</td>\n",
       "      <td>0</td>\n",
       "      <td>0</td>\n",
       "      <td>0</td>\n",
       "      <td>0</td>\n",
       "    </tr>\n",
       "    <tr>\n",
       "      <th>2</th>\n",
       "      <td>1</td>\n",
       "      <td>0</td>\n",
       "      <td>0</td>\n",
       "      <td>0</td>\n",
       "      <td>0</td>\n",
       "      <td>0</td>\n",
       "      <td>0</td>\n",
       "      <td>0</td>\n",
       "      <td>0</td>\n",
       "      <td>0</td>\n",
       "      <td>...</td>\n",
       "      <td>0</td>\n",
       "      <td>0</td>\n",
       "      <td>0</td>\n",
       "      <td>0</td>\n",
       "      <td>0</td>\n",
       "      <td>0</td>\n",
       "      <td>0</td>\n",
       "      <td>0</td>\n",
       "      <td>0</td>\n",
       "      <td>0</td>\n",
       "    </tr>\n",
       "    <tr>\n",
       "      <th>3</th>\n",
       "      <td>4</td>\n",
       "      <td>0</td>\n",
       "      <td>0</td>\n",
       "      <td>0</td>\n",
       "      <td>0</td>\n",
       "      <td>0</td>\n",
       "      <td>0</td>\n",
       "      <td>0</td>\n",
       "      <td>0</td>\n",
       "      <td>0</td>\n",
       "      <td>...</td>\n",
       "      <td>0</td>\n",
       "      <td>0</td>\n",
       "      <td>0</td>\n",
       "      <td>0</td>\n",
       "      <td>0</td>\n",
       "      <td>0</td>\n",
       "      <td>0</td>\n",
       "      <td>0</td>\n",
       "      <td>0</td>\n",
       "      <td>0</td>\n",
       "    </tr>\n",
       "    <tr>\n",
       "      <th>4</th>\n",
       "      <td>0</td>\n",
       "      <td>0</td>\n",
       "      <td>0</td>\n",
       "      <td>0</td>\n",
       "      <td>0</td>\n",
       "      <td>0</td>\n",
       "      <td>0</td>\n",
       "      <td>0</td>\n",
       "      <td>0</td>\n",
       "      <td>0</td>\n",
       "      <td>...</td>\n",
       "      <td>0</td>\n",
       "      <td>0</td>\n",
       "      <td>0</td>\n",
       "      <td>0</td>\n",
       "      <td>0</td>\n",
       "      <td>0</td>\n",
       "      <td>0</td>\n",
       "      <td>0</td>\n",
       "      <td>0</td>\n",
       "      <td>0</td>\n",
       "    </tr>\n",
       "  </tbody>\n",
       "</table>\n",
       "<p>5 rows × 785 columns</p>\n",
       "</div>"
      ],
      "text/plain": [
       "   label  pixel0  pixel1  pixel2  pixel3  pixel4  pixel5  pixel6  pixel7  \\\n",
       "0      1       0       0       0       0       0       0       0       0   \n",
       "1      0       0       0       0       0       0       0       0       0   \n",
       "2      1       0       0       0       0       0       0       0       0   \n",
       "3      4       0       0       0       0       0       0       0       0   \n",
       "4      0       0       0       0       0       0       0       0       0   \n",
       "\n",
       "   pixel8  ...  pixel774  pixel775  pixel776  pixel777  pixel778  pixel779  \\\n",
       "0       0  ...         0         0         0         0         0         0   \n",
       "1       0  ...         0         0         0         0         0         0   \n",
       "2       0  ...         0         0         0         0         0         0   \n",
       "3       0  ...         0         0         0         0         0         0   \n",
       "4       0  ...         0         0         0         0         0         0   \n",
       "\n",
       "   pixel780  pixel781  pixel782  pixel783  \n",
       "0         0         0         0         0  \n",
       "1         0         0         0         0  \n",
       "2         0         0         0         0  \n",
       "3         0         0         0         0  \n",
       "4         0         0         0         0  \n",
       "\n",
       "[5 rows x 785 columns]"
      ]
     },
     "execution_count": 3,
     "metadata": {},
     "output_type": "execute_result"
    }
   ],
   "source": [
    "train.head()"
   ]
  },
  {
   "cell_type": "code",
   "execution_count": 4,
   "metadata": {},
   "outputs": [
    {
     "data": {
      "text/html": [
       "<div>\n",
       "<style scoped>\n",
       "    .dataframe tbody tr th:only-of-type {\n",
       "        vertical-align: middle;\n",
       "    }\n",
       "\n",
       "    .dataframe tbody tr th {\n",
       "        vertical-align: top;\n",
       "    }\n",
       "\n",
       "    .dataframe thead th {\n",
       "        text-align: right;\n",
       "    }\n",
       "</style>\n",
       "<table border=\"1\" class=\"dataframe\">\n",
       "  <thead>\n",
       "    <tr style=\"text-align: right;\">\n",
       "      <th></th>\n",
       "      <th>pixel0</th>\n",
       "      <th>pixel1</th>\n",
       "      <th>pixel2</th>\n",
       "      <th>pixel3</th>\n",
       "      <th>pixel4</th>\n",
       "      <th>pixel5</th>\n",
       "      <th>pixel6</th>\n",
       "      <th>pixel7</th>\n",
       "      <th>pixel8</th>\n",
       "      <th>pixel9</th>\n",
       "      <th>...</th>\n",
       "      <th>pixel774</th>\n",
       "      <th>pixel775</th>\n",
       "      <th>pixel776</th>\n",
       "      <th>pixel777</th>\n",
       "      <th>pixel778</th>\n",
       "      <th>pixel779</th>\n",
       "      <th>pixel780</th>\n",
       "      <th>pixel781</th>\n",
       "      <th>pixel782</th>\n",
       "      <th>pixel783</th>\n",
       "    </tr>\n",
       "  </thead>\n",
       "  <tbody>\n",
       "    <tr>\n",
       "      <th>0</th>\n",
       "      <td>0</td>\n",
       "      <td>0</td>\n",
       "      <td>0</td>\n",
       "      <td>0</td>\n",
       "      <td>0</td>\n",
       "      <td>0</td>\n",
       "      <td>0</td>\n",
       "      <td>0</td>\n",
       "      <td>0</td>\n",
       "      <td>0</td>\n",
       "      <td>...</td>\n",
       "      <td>0</td>\n",
       "      <td>0</td>\n",
       "      <td>0</td>\n",
       "      <td>0</td>\n",
       "      <td>0</td>\n",
       "      <td>0</td>\n",
       "      <td>0</td>\n",
       "      <td>0</td>\n",
       "      <td>0</td>\n",
       "      <td>0</td>\n",
       "    </tr>\n",
       "    <tr>\n",
       "      <th>1</th>\n",
       "      <td>0</td>\n",
       "      <td>0</td>\n",
       "      <td>0</td>\n",
       "      <td>0</td>\n",
       "      <td>0</td>\n",
       "      <td>0</td>\n",
       "      <td>0</td>\n",
       "      <td>0</td>\n",
       "      <td>0</td>\n",
       "      <td>0</td>\n",
       "      <td>...</td>\n",
       "      <td>0</td>\n",
       "      <td>0</td>\n",
       "      <td>0</td>\n",
       "      <td>0</td>\n",
       "      <td>0</td>\n",
       "      <td>0</td>\n",
       "      <td>0</td>\n",
       "      <td>0</td>\n",
       "      <td>0</td>\n",
       "      <td>0</td>\n",
       "    </tr>\n",
       "    <tr>\n",
       "      <th>2</th>\n",
       "      <td>0</td>\n",
       "      <td>0</td>\n",
       "      <td>0</td>\n",
       "      <td>0</td>\n",
       "      <td>0</td>\n",
       "      <td>0</td>\n",
       "      <td>0</td>\n",
       "      <td>0</td>\n",
       "      <td>0</td>\n",
       "      <td>0</td>\n",
       "      <td>...</td>\n",
       "      <td>0</td>\n",
       "      <td>0</td>\n",
       "      <td>0</td>\n",
       "      <td>0</td>\n",
       "      <td>0</td>\n",
       "      <td>0</td>\n",
       "      <td>0</td>\n",
       "      <td>0</td>\n",
       "      <td>0</td>\n",
       "      <td>0</td>\n",
       "    </tr>\n",
       "    <tr>\n",
       "      <th>3</th>\n",
       "      <td>0</td>\n",
       "      <td>0</td>\n",
       "      <td>0</td>\n",
       "      <td>0</td>\n",
       "      <td>0</td>\n",
       "      <td>0</td>\n",
       "      <td>0</td>\n",
       "      <td>0</td>\n",
       "      <td>0</td>\n",
       "      <td>0</td>\n",
       "      <td>...</td>\n",
       "      <td>0</td>\n",
       "      <td>0</td>\n",
       "      <td>0</td>\n",
       "      <td>0</td>\n",
       "      <td>0</td>\n",
       "      <td>0</td>\n",
       "      <td>0</td>\n",
       "      <td>0</td>\n",
       "      <td>0</td>\n",
       "      <td>0</td>\n",
       "    </tr>\n",
       "    <tr>\n",
       "      <th>4</th>\n",
       "      <td>0</td>\n",
       "      <td>0</td>\n",
       "      <td>0</td>\n",
       "      <td>0</td>\n",
       "      <td>0</td>\n",
       "      <td>0</td>\n",
       "      <td>0</td>\n",
       "      <td>0</td>\n",
       "      <td>0</td>\n",
       "      <td>0</td>\n",
       "      <td>...</td>\n",
       "      <td>0</td>\n",
       "      <td>0</td>\n",
       "      <td>0</td>\n",
       "      <td>0</td>\n",
       "      <td>0</td>\n",
       "      <td>0</td>\n",
       "      <td>0</td>\n",
       "      <td>0</td>\n",
       "      <td>0</td>\n",
       "      <td>0</td>\n",
       "    </tr>\n",
       "  </tbody>\n",
       "</table>\n",
       "<p>5 rows × 784 columns</p>\n",
       "</div>"
      ],
      "text/plain": [
       "   pixel0  pixel1  pixel2  pixel3  pixel4  pixel5  pixel6  pixel7  pixel8  \\\n",
       "0       0       0       0       0       0       0       0       0       0   \n",
       "1       0       0       0       0       0       0       0       0       0   \n",
       "2       0       0       0       0       0       0       0       0       0   \n",
       "3       0       0       0       0       0       0       0       0       0   \n",
       "4       0       0       0       0       0       0       0       0       0   \n",
       "\n",
       "   pixel9  ...  pixel774  pixel775  pixel776  pixel777  pixel778  pixel779  \\\n",
       "0       0  ...         0         0         0         0         0         0   \n",
       "1       0  ...         0         0         0         0         0         0   \n",
       "2       0  ...         0         0         0         0         0         0   \n",
       "3       0  ...         0         0         0         0         0         0   \n",
       "4       0  ...         0         0         0         0         0         0   \n",
       "\n",
       "   pixel780  pixel781  pixel782  pixel783  \n",
       "0         0         0         0         0  \n",
       "1         0         0         0         0  \n",
       "2         0         0         0         0  \n",
       "3         0         0         0         0  \n",
       "4         0         0         0         0  \n",
       "\n",
       "[5 rows x 784 columns]"
      ]
     },
     "execution_count": 4,
     "metadata": {},
     "output_type": "execute_result"
    }
   ],
   "source": [
    "test.head()"
   ]
  },
  {
   "cell_type": "code",
   "execution_count": 5,
   "metadata": {},
   "outputs": [
    {
     "name": "stdout",
     "output_type": "stream",
     "text": [
      "training data shape (42000, 784)\n",
      "testing data shape (28000, 784)\n",
      "training result shape (42000,)\n",
      "training result example 1\n"
     ]
    }
   ],
   "source": [
    "# preparing data\n",
    "y_train = train[\"label\"]\n",
    "x_train = train.iloc[:,1:]\n",
    "x_train = x_train / 255.0  # data range [0, 1]\n",
    "x_test = test / 255.0      # data range [0, 1]\n",
    "#x_train = x_train.values.reshape(-1,28,28,1)   # input image dimensions: 28*28*1\n",
    "#x_test = x_test.values.reshape(-1,28,28,1)\n",
    "#y_train = keras.utils.to_categorical(y_train, num_classes = 10)  # convert a class vector (integers) to binary class matrix\n",
    "print('training data shape', x_train.shape)\n",
    "print('testing data shape', x_test.shape)\n",
    "print('training result shape', y_train.shape)\n",
    "print('training result example', y_train[0])"
   ]
  },
  {
   "cell_type": "code",
   "execution_count": 6,
   "metadata": {},
   "outputs": [],
   "source": [
    "# preparing training and testing data for model validation\n",
    "X_train, X_val, Y_train, Y_val = train_test_split(x_train, y_train, test_size = 0.1)"
   ]
  },
  {
   "cell_type": "markdown",
   "metadata": {},
   "source": [
    "# Random forest classifier"
   ]
  },
  {
   "cell_type": "code",
   "execution_count": 7,
   "metadata": {},
   "outputs": [
    {
     "name": "stdout",
     "output_type": "stream",
     "text": [
      "accuracy on training set: 0.943175\n",
      "accuracy on test set: 0.927143\n",
      "out-of-bag estimate: 0.927222\n"
     ]
    }
   ],
   "source": [
    "# build random forest classifier\n",
    "clf = RandomForestClassifier(n_estimators=100, max_depth=10, oob_score = True,\n",
    "                             min_samples_split=100, min_samples_leaf=20, max_features='sqrt',\n",
    "                              random_state=0, criterion = 'entropy', n_jobs=-1)\n",
    "clf.fit(X_train, Y_train)\n",
    "#print(clf.feature_importances_)\n",
    "print(\"accuracy on training set: %f\" % clf.score(X_train, Y_train))\n",
    "print(\"accuracy on test set: %f\" % clf.score(X_val, Y_val))\n",
    "print(\"out-of-bag estimate: %f\" % clf.oob_score_)"
   ]
  },
  {
   "cell_type": "code",
   "execution_count": 18,
   "metadata": {},
   "outputs": [
    {
     "name": "stdout",
     "output_type": "stream",
     "text": [
      "accuracy on training set: 0.976746\n",
      "accuracy on test set: 0.946190\n",
      "out-of-bag estimate: 0.948889\n"
     ]
    }
   ],
   "source": [
    "# build random forest classifier\n",
    "clf = RandomForestClassifier(n_estimators=1000, max_depth=10, oob_score = True,\n",
    "                             #min_samples_split=100, min_samples_leaf=20, max_features='sqrt',\n",
    "                              random_state=0, criterion = 'entropy', n_jobs=-1)\n",
    "clf.fit(X_train, Y_train)\n",
    "print(\"accuracy on training set: %f\" % clf.score(X_train, Y_train))\n",
    "print(\"accuracy on test set: %f\" % clf.score(X_val, Y_val))\n",
    "print(\"out-of-bag estimate: %f\" % clf.oob_score_)"
   ]
  },
  {
   "cell_type": "code",
   "execution_count": 9,
   "metadata": {},
   "outputs": [
    {
     "name": "stdout",
     "output_type": "stream",
     "text": [
      "Fitting 3 folds for each of 6 candidates, totalling 18 fits\n"
     ]
    },
    {
     "name": "stderr",
     "output_type": "stream",
     "text": [
      "[Parallel(n_jobs=-1)]: Done  18 out of  18 | elapsed: 10.0min finished\n"
     ]
    },
    {
     "name": "stdout",
     "output_type": "stream",
     "text": [
      "finish\n"
     ]
    },
    {
     "name": "stderr",
     "output_type": "stream",
     "text": [
      "C:\\Users\\lenovo\\Anaconda3\\lib\\site-packages\\sklearn\\model_selection\\_search.py:747: DeprecationWarning: The grid_scores_ attribute was deprecated in version 0.18 in favor of the more elaborate cv_results_ attribute. The grid_scores_ attribute will not be available from 0.20\n",
      "  DeprecationWarning)\n"
     ]
    },
    {
     "data": {
      "text/plain": [
       "([mean: 0.92050, std: 0.00246, params: {'n_estimators': 50},\n",
       "  mean: 0.92513, std: 0.00178, params: {'n_estimators': 150},\n",
       "  mean: 0.92611, std: 0.00282, params: {'n_estimators': 250},\n",
       "  mean: 0.92646, std: 0.00221, params: {'n_estimators': 350},\n",
       "  mean: 0.92646, std: 0.00234, params: {'n_estimators': 450},\n",
       "  mean: 0.92698, std: 0.00230, params: {'n_estimators': 550}],\n",
       " {'n_estimators': 550},\n",
       " 0.926984126984127)"
      ]
     },
     "execution_count": 9,
     "metadata": {},
     "output_type": "execute_result"
    }
   ],
   "source": [
    "# GridSearch for n_estimators\n",
    "param_test1 = {'n_estimators':range(50,650,100)}\n",
    "gsearch1 = GridSearchCV(estimator = RandomForestClassifier(max_depth=10, oob_score = True, \n",
    "                                  min_samples_split=100,min_samples_leaf=20,max_features='sqrt', random_state=0), \n",
    "                                  param_grid = param_test1,cv=3, n_jobs=-1, verbose=1)\n",
    "gsearch1.fit(X_train, Y_train)\n",
    "gsearch1.grid_scores_, gsearch1.best_params_, gsearch1.best_score_"
   ]
  },
  {
   "cell_type": "code",
   "execution_count": 10,
   "metadata": {},
   "outputs": [
    {
     "name": "stdout",
     "output_type": "stream",
     "text": [
      "Fitting 3 folds for each of 16 candidates, totalling 48 fits\n"
     ]
    },
    {
     "name": "stderr",
     "output_type": "stream",
     "text": [
      "[Parallel(n_jobs=-1)]: Done  48 out of  48 | elapsed: 31.2min finished\n",
      "C:\\Users\\lenovo\\Anaconda3\\lib\\site-packages\\sklearn\\model_selection\\_search.py:747: DeprecationWarning: The grid_scores_ attribute was deprecated in version 0.18 in favor of the more elaborate cv_results_ attribute. The grid_scores_ attribute will not be available from 0.20\n",
      "  DeprecationWarning)\n"
     ]
    },
    {
     "data": {
      "text/plain": [
       "([mean: 0.86249, std: 0.00355, params: {'max_depth': 5, 'min_samples_split': 50},\n",
       "  mean: 0.86272, std: 0.00309, params: {'max_depth': 5, 'min_samples_split': 100},\n",
       "  mean: 0.86265, std: 0.00350, params: {'max_depth': 5, 'min_samples_split': 150},\n",
       "  mean: 0.86161, std: 0.00287, params: {'max_depth': 5, 'min_samples_split': 200},\n",
       "  mean: 0.93257, std: 0.00223, params: {'max_depth': 10, 'min_samples_split': 50},\n",
       "  mean: 0.92672, std: 0.00242, params: {'max_depth': 10, 'min_samples_split': 100},\n",
       "  mean: 0.92111, std: 0.00247, params: {'max_depth': 10, 'min_samples_split': 150},\n",
       "  mean: 0.91563, std: 0.00235, params: {'max_depth': 10, 'min_samples_split': 200},\n",
       "  mean: 0.93780, std: 0.00178, params: {'max_depth': 15, 'min_samples_split': 50},\n",
       "  mean: 0.93058, std: 0.00230, params: {'max_depth': 15, 'min_samples_split': 100},\n",
       "  mean: 0.92429, std: 0.00225, params: {'max_depth': 15, 'min_samples_split': 150},\n",
       "  mean: 0.91870, std: 0.00169, params: {'max_depth': 15, 'min_samples_split': 200},\n",
       "  mean: 0.93820, std: 0.00178, params: {'max_depth': 20, 'min_samples_split': 50},\n",
       "  mean: 0.93053, std: 0.00222, params: {'max_depth': 20, 'min_samples_split': 100},\n",
       "  mean: 0.92410, std: 0.00185, params: {'max_depth': 20, 'min_samples_split': 150},\n",
       "  mean: 0.91934, std: 0.00149, params: {'max_depth': 20, 'min_samples_split': 200}],\n",
       " {'max_depth': 20, 'min_samples_split': 50},\n",
       " 0.9382010582010581)"
      ]
     },
     "execution_count": 10,
     "metadata": {},
     "output_type": "execute_result"
    }
   ],
   "source": [
    "# GridSearch for max_depth and min_samples_split\n",
    "param_test2 = {'max_depth':range(5,21,5), 'min_samples_split':range(50,201,50)}\n",
    "gsearch2 = GridSearchCV(estimator = RandomForestClassifier(n_estimators= 500, oob_score = True, \n",
    "                                  min_samples_leaf=20, max_features='sqrt', random_state=0), \n",
    "                                  param_grid = param_test2,cv=3, n_jobs=-1, verbose=1)\n",
    "\n",
    "gsearch2.fit(X_train, Y_train)\n",
    "gsearch2.grid_scores_, gsearch2.best_params_, gsearch2.best_score_"
   ]
  },
  {
   "cell_type": "code",
   "execution_count": 14,
   "metadata": {},
   "outputs": [
    {
     "name": "stdout",
     "output_type": "stream",
     "text": [
      "Fitting 3 folds for each of 25 candidates, totalling 75 fits\n"
     ]
    },
    {
     "name": "stderr",
     "output_type": "stream",
     "text": [
      "[Parallel(n_jobs=-1)]: Done  42 tasks      | elapsed: 28.0min\n",
      "[Parallel(n_jobs=-1)]: Done  75 out of  75 | elapsed: 45.6min finished\n",
      "C:\\Users\\lenovo\\Anaconda3\\lib\\site-packages\\sklearn\\model_selection\\_search.py:747: DeprecationWarning: The grid_scores_ attribute was deprecated in version 0.18 in favor of the more elaborate cv_results_ attribute. The grid_scores_ attribute will not be available from 0.20\n",
      "  DeprecationWarning)\n"
     ]
    },
    {
     "data": {
      "text/plain": [
       "([mean: 0.94659, std: 0.00146, params: {'min_samples_leaf': 10, 'min_samples_split': 30},\n",
       "  mean: 0.94516, std: 0.00202, params: {'min_samples_leaf': 10, 'min_samples_split': 40},\n",
       "  mean: 0.94315, std: 0.00167, params: {'min_samples_leaf': 10, 'min_samples_split': 50},\n",
       "  mean: 0.94087, std: 0.00146, params: {'min_samples_leaf': 10, 'min_samples_split': 60},\n",
       "  mean: 0.93921, std: 0.00168, params: {'min_samples_leaf': 10, 'min_samples_split': 70},\n",
       "  mean: 0.94003, std: 0.00169, params: {'min_samples_leaf': 20, 'min_samples_split': 30},\n",
       "  mean: 0.94003, std: 0.00169, params: {'min_samples_leaf': 20, 'min_samples_split': 40},\n",
       "  mean: 0.93820, std: 0.00178, params: {'min_samples_leaf': 20, 'min_samples_split': 50},\n",
       "  mean: 0.93664, std: 0.00273, params: {'min_samples_leaf': 20, 'min_samples_split': 60},\n",
       "  mean: 0.93505, std: 0.00204, params: {'min_samples_leaf': 20, 'min_samples_split': 70},\n",
       "  mean: 0.93280, std: 0.00265, params: {'min_samples_leaf': 30, 'min_samples_split': 30},\n",
       "  mean: 0.93280, std: 0.00265, params: {'min_samples_leaf': 30, 'min_samples_split': 40},\n",
       "  mean: 0.93280, std: 0.00265, params: {'min_samples_leaf': 30, 'min_samples_split': 50},\n",
       "  mean: 0.93280, std: 0.00265, params: {'min_samples_leaf': 30, 'min_samples_split': 60},\n",
       "  mean: 0.93151, std: 0.00180, params: {'min_samples_leaf': 30, 'min_samples_split': 70},\n",
       "  mean: 0.92717, std: 0.00245, params: {'min_samples_leaf': 40, 'min_samples_split': 30},\n",
       "  mean: 0.92717, std: 0.00245, params: {'min_samples_leaf': 40, 'min_samples_split': 40},\n",
       "  mean: 0.92717, std: 0.00245, params: {'min_samples_leaf': 40, 'min_samples_split': 50},\n",
       "  mean: 0.92717, std: 0.00245, params: {'min_samples_leaf': 40, 'min_samples_split': 60},\n",
       "  mean: 0.92717, std: 0.00245, params: {'min_samples_leaf': 40, 'min_samples_split': 70},\n",
       "  mean: 0.92254, std: 0.00175, params: {'min_samples_leaf': 50, 'min_samples_split': 30},\n",
       "  mean: 0.92254, std: 0.00175, params: {'min_samples_leaf': 50, 'min_samples_split': 40},\n",
       "  mean: 0.92254, std: 0.00175, params: {'min_samples_leaf': 50, 'min_samples_split': 50},\n",
       "  mean: 0.92254, std: 0.00175, params: {'min_samples_leaf': 50, 'min_samples_split': 60},\n",
       "  mean: 0.92254, std: 0.00175, params: {'min_samples_leaf': 50, 'min_samples_split': 70}],\n",
       " {'min_samples_leaf': 10, 'min_samples_split': 30},\n",
       " 0.9465873015873015)"
      ]
     },
     "execution_count": 14,
     "metadata": {},
     "output_type": "execute_result"
    }
   ],
   "source": [
    "# GridSearch for min_samples_leaf and min_samples_split\n",
    "param_test3 = {'min_samples_split':range(30,71,10), 'min_samples_leaf':range(10,51,10)}\n",
    "gsearch3 = GridSearchCV(estimator = RandomForestClassifier(n_estimators= 500, oob_score = True, \n",
    "                                  max_depth=20, \n",
    "                                  max_features='sqrt', random_state=0), \n",
    "                                  param_grid = param_test3,cv=3, n_jobs=-1, verbose=1)\n",
    "\n",
    "gsearch3.fit(X_train, Y_train)\n",
    "gsearch3.grid_scores_, gsearch3.best_params_, gsearch3.best_score_"
   ]
  },
  {
   "cell_type": "code",
   "execution_count": 24,
   "metadata": {},
   "outputs": [
    {
     "name": "stdout",
     "output_type": "stream",
     "text": [
      "Fitting 3 folds for each of 24 candidates, totalling 72 fits\n"
     ]
    },
    {
     "name": "stderr",
     "output_type": "stream",
     "text": [
      "[Parallel(n_jobs=-1)]: Done  42 tasks      | elapsed: 44.3min\n",
      "[Parallel(n_jobs=-1)]: Done  72 out of  72 | elapsed: 69.3min finished\n",
      "C:\\Users\\lenovo\\Anaconda3\\lib\\site-packages\\sklearn\\model_selection\\_search.py:747: DeprecationWarning: The grid_scores_ attribute was deprecated in version 0.18 in favor of the more elaborate cv_results_ attribute. The grid_scores_ attribute will not be available from 0.20\n",
      "  DeprecationWarning)\n"
     ]
    },
    {
     "data": {
      "text/plain": [
       "([mean: 0.96246, std: 0.00199, params: {'min_samples_leaf': 1, 'min_samples_split': 2},\n",
       "  mean: 0.96026, std: 0.00195, params: {'min_samples_leaf': 1, 'min_samples_split': 7},\n",
       "  mean: 0.95828, std: 0.00178, params: {'min_samples_leaf': 1, 'min_samples_split': 12},\n",
       "  mean: 0.95606, std: 0.00207, params: {'min_samples_leaf': 1, 'min_samples_split': 17},\n",
       "  mean: 0.95460, std: 0.00216, params: {'min_samples_leaf': 1, 'min_samples_split': 22},\n",
       "  mean: 0.95304, std: 0.00217, params: {'min_samples_leaf': 1, 'min_samples_split': 27},\n",
       "  mean: 0.95347, std: 0.00206, params: {'min_samples_leaf': 6, 'min_samples_split': 2},\n",
       "  mean: 0.95347, std: 0.00206, params: {'min_samples_leaf': 6, 'min_samples_split': 7},\n",
       "  mean: 0.95347, std: 0.00206, params: {'min_samples_leaf': 6, 'min_samples_split': 12},\n",
       "  mean: 0.95198, std: 0.00219, params: {'min_samples_leaf': 6, 'min_samples_split': 17},\n",
       "  mean: 0.95103, std: 0.00199, params: {'min_samples_leaf': 6, 'min_samples_split': 22},\n",
       "  mean: 0.95011, std: 0.00167, params: {'min_samples_leaf': 6, 'min_samples_split': 27},\n",
       "  mean: 0.94730, std: 0.00218, params: {'min_samples_leaf': 11, 'min_samples_split': 2},\n",
       "  mean: 0.94730, std: 0.00218, params: {'min_samples_leaf': 11, 'min_samples_split': 7},\n",
       "  mean: 0.94730, std: 0.00218, params: {'min_samples_leaf': 11, 'min_samples_split': 12},\n",
       "  mean: 0.94730, std: 0.00218, params: {'min_samples_leaf': 11, 'min_samples_split': 17},\n",
       "  mean: 0.94730, std: 0.00218, params: {'min_samples_leaf': 11, 'min_samples_split': 22},\n",
       "  mean: 0.94704, std: 0.00206, params: {'min_samples_leaf': 11, 'min_samples_split': 27},\n",
       "  mean: 0.94259, std: 0.00238, params: {'min_samples_leaf': 16, 'min_samples_split': 2},\n",
       "  mean: 0.94259, std: 0.00238, params: {'min_samples_leaf': 16, 'min_samples_split': 7},\n",
       "  mean: 0.94259, std: 0.00238, params: {'min_samples_leaf': 16, 'min_samples_split': 12},\n",
       "  mean: 0.94259, std: 0.00238, params: {'min_samples_leaf': 16, 'min_samples_split': 17},\n",
       "  mean: 0.94259, std: 0.00238, params: {'min_samples_leaf': 16, 'min_samples_split': 22},\n",
       "  mean: 0.94259, std: 0.00238, params: {'min_samples_leaf': 16, 'min_samples_split': 27}],\n",
       " {'min_samples_leaf': 1, 'min_samples_split': 2},\n",
       " 0.9624603174603175)"
      ]
     },
     "execution_count": 24,
     "metadata": {},
     "output_type": "execute_result"
    }
   ],
   "source": [
    "# GridSearch for min_samples_leaf and min_samples_split\n",
    "param_test4 = {'min_samples_split':range(2,31,5), 'min_samples_leaf':range(1,21,5)}\n",
    "gsearch4 = GridSearchCV(estimator = RandomForestClassifier(n_estimators= 500, oob_score = True, \n",
    "                                  max_depth=20, \n",
    "                                  max_features='sqrt', random_state=0), \n",
    "                                  param_grid = param_test4, cv=3, n_jobs=-1, verbose=1)\n",
    "\n",
    "gsearch4.fit(X_train, Y_train)\n",
    "gsearch4.grid_scores_, gsearch4.best_params_, gsearch4.best_score_"
   ]
  },
  {
   "cell_type": "code",
   "execution_count": 25,
   "metadata": {},
   "outputs": [
    {
     "name": "stdout",
     "output_type": "stream",
     "text": [
      "Fitting 3 folds for each of 3 candidates, totalling 9 fits\n"
     ]
    },
    {
     "name": "stderr",
     "output_type": "stream",
     "text": [
      "[Parallel(n_jobs=-1)]: Done   9 out of   9 | elapsed:  9.1min finished\n",
      "C:\\Users\\lenovo\\Anaconda3\\lib\\site-packages\\sklearn\\model_selection\\_search.py:747: DeprecationWarning: The grid_scores_ attribute was deprecated in version 0.18 in favor of the more elaborate cv_results_ attribute. The grid_scores_ attribute will not be available from 0.20\n",
      "  DeprecationWarning)\n"
     ]
    },
    {
     "data": {
      "text/plain": [
       "([mean: 0.96246, std: 0.00199, params: {'max_features': 'auto'},\n",
       "  mean: 0.96246, std: 0.00199, params: {'max_features': 'sqrt'},\n",
       "  mean: 0.96114, std: 0.00236, params: {'max_features': 'log2'}],\n",
       " {'max_features': 'auto'},\n",
       " 0.9624603174603175)"
      ]
     },
     "execution_count": 25,
     "metadata": {},
     "output_type": "execute_result"
    }
   ],
   "source": [
    "# GridSearch for max_features\n",
    "param_test5 = {'max_features':['auto','sqrt','log2']}\n",
    "gsearch5 = GridSearchCV(estimator = RandomForestClassifier(n_estimators= 500, oob_score = True, \n",
    "                                  max_depth=20, min_samples_split=2,min_samples_leaf=1,\n",
    "                                  random_state=0), \n",
    "                                  param_grid = param_test5, cv=3, n_jobs=-1, verbose=1)\n",
    "gsearch5.fit(X_train, Y_train)\n",
    "gsearch5.grid_scores_, gsearch5.best_params_, gsearch5.best_score_"
   ]
  },
  {
   "cell_type": "code",
   "execution_count": 7,
   "metadata": {},
   "outputs": [
    {
     "name": "stdout",
     "output_type": "stream",
     "text": [
      "accuracy on training set: 0.999630\n",
      "accuracy on test set: 0.970714\n",
      "out-of-bag estimate: 0.965291\n"
     ]
    }
   ],
   "source": [
    "# train the model using best parameters\n",
    "clf_RF = RandomForestClassifier(n_estimators= 500, oob_score = True, \n",
    "                                  max_depth=20, min_samples_split=2,min_samples_leaf=1,\n",
    "                                  max_features='auto', random_state=0)\n",
    "clf_RF.fit(X_train, Y_train)\n",
    "print(\"accuracy on training set: %f\" % clf_RF.score(X_train, Y_train))\n",
    "print(\"accuracy on test set: %f\" % clf_RF.score(X_val, Y_val))\n",
    "print(\"out-of-bag estimate: %f\" % clf_RF.oob_score_)"
   ]
  },
  {
   "cell_type": "code",
   "execution_count": 11,
   "metadata": {},
   "outputs": [
    {
     "name": "stdout",
     "output_type": "stream",
     "text": [
      "[[391   0   0   0   0   1   1   1   1   0]\n",
      " [  0 453   2   1   0   0   1   0   0   0]\n",
      " [  1   1 422   1   1   0   2   2   2   0]\n",
      " [  2   1   7 438   0   3   0   2   3   0]\n",
      " [  1   1   0   0 360   0   2   0   0   7]\n",
      " [  0   0   0   6   0 367   3   1   1   3]\n",
      " [  1   1   1   0   0   4 388   0   1   0]\n",
      " [  0   1   4   0   0   0   0 426   2   4]\n",
      " [  0   3   3   4   2   7   1   1 402   6]\n",
      " [  3   0   2   2   7   0   0   2   3 427]]\n"
     ]
    }
   ],
   "source": [
    "# visualizing confusion matrix \n",
    "Y_pred = clf_RF.predict(X_val)\n",
    "cm = confusion_matrix(Y_val, Y_pred)\n",
    "print(cm)"
   ]
  },
  {
   "cell_type": "code",
   "execution_count": 14,
   "metadata": {},
   "outputs": [
    {
     "name": "stdout",
     "output_type": "stream",
     "text": [
      "Precision Score: 0.9700097087051768\n",
      "Recall Score: 0.97\n",
      "F1 Score: 0.9699595289366851\n"
     ]
    }
   ],
   "source": [
    "print('Precision Score:',precision_score(Y_val, Y_pred, average='weighted'))\n",
    "print('Recall Score:',recall_score(Y_val, Y_pred,average='weighted'))\n",
    "print('F1 Score:',f1_score(Y_val, Y_pred,average='weighted'))\n"
   ]
  },
  {
   "cell_type": "code",
   "execution_count": 30,
   "metadata": {},
   "outputs": [],
   "source": [
    "# model prediction \n",
    "y_test = clf_RF.predict(x_test)"
   ]
  },
  {
   "cell_type": "code",
   "execution_count": 31,
   "metadata": {},
   "outputs": [],
   "source": [
    "# write results to csv file\n",
    "results = pd.Series(y_test,name=\"Label\")\n",
    "submission = pd.concat([pd.Series(range(1,28001),name = \"ImageId\"),results],axis = 1)\n",
    "submission.to_csv(\"RF_results.csv\",index=False)"
   ]
  },
  {
   "cell_type": "markdown",
   "metadata": {
    "collapsed": true
   },
   "source": [
    "# KNN classifer"
   ]
  },
  {
   "cell_type": "code",
   "execution_count": 8,
   "metadata": {},
   "outputs": [],
   "source": [
    "#tune the parameter n_neighbors\n",
    "scores = []\n",
    "\n",
    "for k in range(1,10):\n",
    "    knn = KNeighborsClassifier(n_neighbors=k)\n",
    "    knn.fit(X_train,Y_train)\n",
    "    y_pred_knn = knn.predict(X_val)\n",
    "    scores.append(accuracy_score(Y_val,y_pred_knn)) "
   ]
  },
  {
   "cell_type": "code",
   "execution_count": 9,
   "metadata": {},
   "outputs": [
    {
     "data": {
      "text/plain": [
       "Text(0, 0.5, 'Accuracy on Validation Data')"
      ]
     },
     "execution_count": 9,
     "metadata": {},
     "output_type": "execute_result"
    },
    {
     "data": {
      "image/png": "[encoded data removed]",
      "text/plain": [
       "<Figure size 432x288 with 1 Axes>"
      ]
     },
     "metadata": {
      "needs_background": "light"
     },
     "output_type": "display_data"
    }
   ],
   "source": [
    "plt.plot(range(1,10),scores)\n",
    "plt.xlabel('K')\n",
    "plt.ylabel('Accuracy on Validation Data')"
   ]
  },
  {
   "cell_type": "code",
   "execution_count": 9,
   "metadata": {},
   "outputs": [
    {
     "data": {
      "text/plain": [
       "0.9697619047619047"
      ]
     },
     "execution_count": 9,
     "metadata": {},
     "output_type": "execute_result"
    }
   ],
   "source": [
    "knn = KNeighborsClassifier(n_neighbors=7)\n",
    "knn.fit(X_train, Y_train)\n",
    "y_pred_knn = knn.predict(X_val)\n",
    "accuracy = (y_pred_knn == Y_val).mean()\n",
    "accuracy"
   ]
  },
  {
   "cell_type": "code",
   "execution_count": 10,
   "metadata": {},
   "outputs": [
    {
     "name": "stdout",
     "output_type": "stream",
     "text": [
      "accuracy on training set: 0.975212\n",
      "accuracy on test set: 0.969762\n"
     ]
    }
   ],
   "source": [
    "#print(clf.feature_importances_)\n",
    "print(\"accuracy on training set: %f\" % knn.score(X_train, Y_train))\n",
    "print(\"accuracy on test set: %f\" % knn.score(X_val, Y_val))"
   ]
  },
  {
   "cell_type": "code",
   "execution_count": 13,
   "metadata": {},
   "outputs": [
    {
     "name": "stdout",
     "output_type": "stream",
     "text": [
      "Precision Score: 0.9700873071931736\n",
      "Recall Score: 0.9697619047619047\n",
      "F1 Score: 0.9696883775466085\n"
     ]
    }
   ],
   "source": [
    "print('Precision Score:',precision_score(Y_val, y_pred_knn, average='weighted'))\n",
    "print('Recall Score:',recall_score(Y_val, y_pred_knn,average='weighted'))\n",
    "print('F1 Score:',f1_score(Y_val, y_pred_knn,average='weighted'))"
   ]
  },
  {
   "cell_type": "code",
   "execution_count": 15,
   "metadata": {},
   "outputs": [
    {
     "data": {
      "text/plain": [
       "0.9647619584646627"
      ]
     },
     "execution_count": 15,
     "metadata": {},
     "output_type": "execute_result"
    }
   ],
   "source": [
    "# k-fold, n_neighbors=7 is taken according to the plot above\n",
    "clf_knn = KNeighborsClassifier(n_neighbors=7)\n",
    "scores = cross_val_score(clf_knn, x_train, y_train, cv=5)\n",
    "scores.mean()"
   ]
  },
  {
   "cell_type": "code",
   "execution_count": 16,
   "metadata": {},
   "outputs": [
    {
     "name": "stdout",
     "output_type": "stream",
     "text": [
      "[[430   0   0   0   0   0   2   0   0   1]\n",
      " [  0 467   1   0   0   0   0   2   0   0]\n",
      " [  5   4 402   1   1   1   0   6   1   0]\n",
      " [  0   2   2 402   0   3   0   3   2   1]\n",
      " [  0   6   0   0 376   0   1   1   0   7]\n",
      " [  2   0   0   4   2 366   3   0   1   1]\n",
      " [  3   1   0   0   0   1 397   0   0   0]\n",
      " [  0   9   1   0   1   0   0 438   0   5]\n",
      " [  1   6   0   6   1   6   2   0 385   6]\n",
      " [  1   2   1   1   5   0   1  13   1 397]]\n"
     ]
    }
   ],
   "source": [
    "# visualizing confusion matrix \n",
    "cm = confusion_matrix(Y_val, y_pred_knn)\n",
    "print(cm)"
   ]
  },
  {
   "cell_type": "code",
   "execution_count": 17,
   "metadata": {},
   "outputs": [],
   "source": [
    "# model prediction \n",
    "y_test = knn.predict(x_test)"
   ]
  },
  {
   "cell_type": "code",
   "execution_count": 18,
   "metadata": {},
   "outputs": [],
   "source": [
    "# write results to csv file\n",
    "results = pd.Series(y_test,name=\"Label\")\n",
    "submission = pd.concat([pd.Series(range(1,28001),name = \"ImageId\"),results],axis = 1)\n",
    "submission.to_csv(\"KNN_results.csv\",index=False)"
   ]
  },
  {
   "cell_type": "code",
   "execution_count": null,
   "metadata": {},
   "outputs": [],
   "source": []
  }
 ],
 "metadata": {
  "kernelspec": {
   "display_name": "Python 3",
   "language": "python",
   "name": "python3"
  },
  "language_info": {
   "codemirror_mode": {
    "name": "ipython",
    "version": 3
   },
   "file_extension": ".py",
   "mimetype": "text/x-python",
   "name": "python",
   "nbconvert_exporter": "python",
   "pygments_lexer": "ipython3",
   "version": "3.6.8"
  }
 },
 "nbformat": 4,
 "nbformat_minor": 2
}
